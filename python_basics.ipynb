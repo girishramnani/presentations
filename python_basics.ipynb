{
 "cells": [
  {
   "cell_type": "code",
   "execution_count": 1,
   "metadata": {
    "collapsed": false
   },
   "outputs": [
    {
     "name": "stdout",
     "output_type": "stream",
     "text": [
      "hello world\n"
     ]
    }
   ],
   "source": [
    "print(\"hello world\")"
   ]
  },
  {
   "cell_type": "code",
   "execution_count": 2,
   "metadata": {
    "collapsed": false
   },
   "outputs": [
    {
     "name": "stdout",
     "output_type": "stream",
     "text": [
      "1.02\n",
      "1.02\n"
     ]
    }
   ],
   "source": [
    "n = float(input())\n",
    "print(n)"
   ]
  },
  {
   "cell_type": "code",
   "execution_count": null,
   "metadata": {
    "collapsed": false
   },
   "outputs": [],
   "source": [
    "print(1)\n",
    "print(\"1\")\n",
    "print(type(1))\n",
    "print(type(\"1\"))"
   ]
  },
  {
   "cell_type": "code",
   "execution_count": null,
   "metadata": {
    "collapsed": false
   },
   "outputs": [],
   "source": [
    "phone = \"9601602149\"\n",
    "\n",
    "if len(phone) == 10 :\n",
    "    print(\"correct number\",\"+91\"+phone)\n",
    "    phone = \"+91\"+phone\n",
    "else :\n",
    "    print(\"wrong format\")"
   ]
  },
  {
   "cell_type": "code",
   "execution_count": 7,
   "metadata": {
    "collapsed": false
   },
   "outputs": [
    {
     "data": {
      "text/plain": [
       "'0000000000'"
      ]
     },
     "execution_count": 7,
     "metadata": {},
     "output_type": "execute_result"
    }
   ],
   "source": [
    "num = 10\n",
    "\n",
    "if num%2==0:\n",
    "    print(\"div by 2\")\n",
    "elif num%3==0:\n",
    "    print(\"div by 3\")\n"
   ]
  },
  {
   "cell_type": "code",
   "execution_count": 8,
   "metadata": {
    "collapsed": false
   },
   "outputs": [
    {
     "name": "stdout",
     "output_type": "stream",
     "text": [
      "Enter the number:girish\n"
     ]
    }
   ],
   "source": [
    "test = input(\"Enter the number:\")"
   ]
  },
  {
   "cell_type": "code",
   "execution_count": 12,
   "metadata": {
    "collapsed": false
   },
   "outputs": [
    {
     "name": "stdout",
     "output_type": "stream",
     "text": [
      "girish ramnani\n"
     ]
    }
   ],
   "source": [
    "print(\"girish\",end=\" \")\n",
    "print(\"ramnani\")"
   ]
  },
  {
   "cell_type": "code",
   "execution_count": 16,
   "metadata": {
    "collapsed": false
   },
   "outputs": [
    {
     "name": "stdout",
     "output_type": "stream",
     "text": [
      "girish\n"
     ]
    }
   ],
   "source": [
    "print(\"GIRISH\".lower())"
   ]
  },
  {
   "cell_type": "code",
   "execution_count": 23,
   "metadata": {
    "collapsed": false
   },
   "outputs": [
    {
     "name": "stdout",
     "output_type": "stream",
     "text": [
      "['girish', 'is', 'my', 'name']\n",
      "['g', 'i', 'r', 'i', 's', 'h', ' ', 'i', 's', ' ', 'm', 'y', ' ', 'n', 'a', 'm', 'e']\n"
     ]
    },
    {
     "data": {
      "text/plain": [
       "'girish is my name'"
      ]
     },
     "execution_count": 23,
     "metadata": {},
     "output_type": "execute_result"
    }
   ],
   "source": [
    "word = \"girish is my name\"\n",
    "bag_of_words= word.split(\" \")\n",
    "print(bag_of_words)\n",
    "print(list(word))\n",
    "word"
   ]
  },
  {
   "cell_type": "code",
   "execution_count": 30,
   "metadata": {
    "collapsed": false
   },
   "outputs": [
    {
     "data": {
      "text/plain": [
       "'hello  world'"
      ]
     },
     "execution_count": 30,
     "metadata": {},
     "output_type": "execute_result"
    }
   ],
   "source": [
    "word = [\"hello\",\"world\"]\n",
    "\n",
    "\"  \".join(word)\n"
   ]
  },
  {
   "cell_type": "code",
   "execution_count": 46,
   "metadata": {
    "collapsed": false
   },
   "outputs": [
    {
     "name": "stdout",
     "output_type": "stream",
     "text": [
      "1\n",
      "2\n",
      "3\n",
      "4\n",
      "5\n",
      "6\n",
      "7\n",
      "8\n",
      "9\n",
      "10\n",
      "girish\n",
      "tirth\n",
      "shivam\n"
     ]
    }
   ],
   "source": [
    "i=0\n",
    "while i <10:\n",
    "    i+=1\n",
    "    print(i)\n",
    "\n",
    "\n"
   ]
  },
  {
   "cell_type": "code",
   "execution_count": null,
   "metadata": {
    "collapsed": true
   },
   "outputs": [],
   "source": [
    "for i in range(10): print(i)"
   ]
  },
  {
   "cell_type": "code",
   "execution_count": 54,
   "metadata": {
    "collapsed": false
   },
   "outputs": [
    {
     "name": "stdout",
     "output_type": "stream",
     "text": [
      "girish\n",
      "girish\n",
      "tirth\n",
      "shivam\n"
     ]
    }
   ],
   "source": [
    "li =[\"girish\",\"tirth\",\"shivam\"]\n",
    "print(li[0])\n",
    "\n",
    "for i in range(len(li)):\n",
    "    print(li[i])"
   ]
  },
  {
   "cell_type": "code",
   "execution_count": 58,
   "metadata": {
    "collapsed": false
   },
   "outputs": [
    {
     "name": "stdout",
     "output_type": "stream",
     "text": [
      "shivam\n"
     ]
    }
   ],
   "source": [
    "for name in li:\n",
    "    if name[0] in [\"g\",\"t\"]:\n",
    "        continue\n",
    "    print(name)"
   ]
  },
  {
   "cell_type": "code",
   "execution_count": 59,
   "metadata": {
    "collapsed": true
   },
   "outputs": [],
   "source": [
    "# hello this wont execute\n",
    "\n",
    "\"\"\"\n",
    "hello is is for many line\n",
    "\n",
    "\"\"\""
   ]
  },
  {
   "cell_type": "code",
   "execution_count": 60,
   "metadata": {
    "collapsed": false
   },
   "outputs": [
    {
     "data": {
      "text/plain": [
       "True"
      ]
     },
     "execution_count": 60,
     "metadata": {},
     "output_type": "execute_result"
    }
   ],
   "source": [
    "def is_in(num):\n",
    "    li = [1,2,3,5]\n",
    "    if num in li:\n",
    "        return True\n",
    "    else:\n",
    "        return False\n"
   ]
  },
  {
   "cell_type": "code",
   "execution_count": 62,
   "metadata": {
    "collapsed": false
   },
   "outputs": [
    {
     "name": "stdout",
     "output_type": "stream",
     "text": [
      "this number is even\n"
     ]
    }
   ],
   "source": [
    "def is_even(num):\n",
    "    \n",
    "    if num % 2 ==0:\n",
    "        return \"this number is even\"\n",
    "    else:\n",
    "        return \"this number is odd\"\n",
    "    \n",
    "word = is_even(2)\n",
    "print(word)"
   ]
  },
  {
   "cell_type": "code",
   "execution_count": 89,
   "metadata": {
    "collapsed": false
   },
   "outputs": [
    {
     "name": "stdout",
     "output_type": "stream",
     "text": [
      "naren\n"
     ]
    }
   ],
   "source": [
    "i = \"narendra modi\"\n",
    "str_i = str(i)\n",
    "print(str_i[:5])"
   ]
  },
  {
   "cell_type": "code",
   "execution_count": 92,
   "metadata": {
    "collapsed": false
   },
   "outputs": [
    {
     "name": "stdout",
     "output_type": "stream",
     "text": [
      "True\n"
     ]
    }
   ],
   "source": [
    "def is_palindrome(word):\n",
    "    if type(word) != str:\n",
    "        word = str(word)\n",
    "    \n",
    "    return word == word[::-1]\n",
    "\n",
    "print(is_palindrome(12321))"
   ]
  },
  {
   "cell_type": "code",
   "execution_count": 101,
   "metadata": {
    "collapsed": false
   },
   "outputs": [
    {
     "name": "stdout",
     "output_type": "stream",
     "text": [
      "[0, 1, 2, 3, 4, 5, 6, 7, 8, 9]\n",
      "[1, 3, 5, 7, 9]\n"
     ]
    }
   ],
   "source": [
    "sum(range(5))\n",
    "\n",
    "li = list(range(10))\n",
    "print(li)\n",
    "\n",
    "new_li = []\n",
    "\n",
    "for num in li:\n",
    "    if num %2 != 0:\n",
    "        new_li.append(num)\n",
    "print(new_li)"
   ]
  },
  {
   "cell_type": "code",
   "execution_count": 102,
   "metadata": {
    "collapsed": false
   },
   "outputs": [
    {
     "name": "stdout",
     "output_type": "stream",
     "text": [
      "[0, 1, 1]\n",
      "[0, 1, 1, 2]\n",
      "[0, 1, 1, 2, 3]\n",
      "[0, 1, 1, 2, 3, 5]\n",
      "[0, 1, 1, 2, 3, 5, 8]\n",
      "[0, 1, 1, 2, 3, 5, 8, 13]\n",
      "[0, 1, 1, 2, 3, 5, 8, 13, 21]\n",
      "[0, 1, 1, 2, 3, 5, 8, 13, 21, 34]\n",
      "[0, 1, 1, 2, 3, 5, 8, 13, 21, 34, 55]\n",
      "[0, 1, 1, 2, 3, 5, 8, 13, 21, 34, 55, 89]\n"
     ]
    }
   ],
   "source": [
    "fib = [0,1]\n",
    "\n",
    "for i in range(10):\n",
    "    fib.append(fib[-1]+fib[-2])\n",
    "    print(fib)\n"
   ]
  },
  {
   "cell_type": "code",
   "execution_count": null,
   "metadata": {
    "collapsed": true
   },
   "outputs": [],
   "source": []
  },
  {
   "cell_type": "code",
   "execution_count": 103,
   "metadata": {
    "collapsed": false
   },
   "outputs": [
    {
     "name": "stdout",
     "output_type": "stream",
     "text": [
      "5\n",
      "This number is odd\n"
     ]
    }
   ],
   "source": [
    "li=[]\n",
    "li.append(\"This number is even\")\n",
    "li.append(\"This number is odd\")\n",
    "n = int(input())\n",
    "print(li[n%2])"
   ]
  },
  {
   "cell_type": "code",
   "execution_count": 107,
   "metadata": {
    "collapsed": false
   },
   "outputs": [
    {
     "name": "stdout",
     "output_type": "stream",
     "text": [
      "urvi 9898988712\n",
      "vaishnavi 4534561234\n",
      "tanha 7000754601\n"
     ]
    }
   ],
   "source": [
    "phone_dir = {\n",
    "    'urvi': 9898988712,\n",
    "    'vaishnavi': 4534561234,\n",
    "    'tanha' : 7000754601\n",
    "}\n",
    "\n",
    "for key in phone_dir:\n",
    "    print(key,phone_dir[key])\n",
    "\n",
    "\n"
   ]
  },
  {
   "cell_type": "code",
   "execution_count": 170,
   "metadata": {
    "collapsed": false
   },
   "outputs": [
    {
     "name": "stdout",
     "output_type": "stream",
     "text": [
      "OS6Q88Z25U@gmail.com\n"
     ]
    }
   ],
   "source": [
    "import random\n",
    "import string\n",
    "\n",
    "custom = list(string.ascii_letters+string.digits)\n",
    "\n",
    "\n",
    "\n",
    "def get_random_name(n):\n",
    "    li =[]\n",
    "    for i in range(n):\n",
    "        li.append(str(random.choice(custom)))\n",
    "    return \"\".join(li)\n",
    "\n",
    "print(get_random_name(10)+\"@gmail.com\")"
   ]
  },
  {
   "cell_type": "code",
   "execution_count": 171,
   "metadata": {
    "collapsed": false
   },
   "outputs": [
    {
     "name": "stdout",
     "output_type": "stream",
     "text": [
      "Counter({'i': 2, 'r': 1, 'h': 1, 's': 1, 'g': 1})\n"
     ]
    }
   ],
   "source": [
    "from collections import Counter\n",
    "\n",
    "def get_freq(string):\n",
    "    return Counter(string)\n",
    "\n",
    "ans = get_freq(\"girish\")\n",
    "print(ans)"
   ]
  },
  {
   "cell_type": "code",
   "execution_count": null,
   "metadata": {
    "collapsed": true
   },
   "outputs": [],
   "source": [
    "\n",
    "def get_freq(string):\n",
    "    "
   ]
  },
  {
   "cell_type": "markdown",
   "metadata": {},
   "source": [
    "###  MATH.PY\n",
    "\n",
    "def sqrt(n):\n",
    "    "
   ]
  },
  {
   "cell_type": "code",
   "execution_count": null,
   "metadata": {
    "collapsed": true
   },
   "outputs": [],
   "source": [
    "import requests\n",
    "\n",
    "x = requests.get(\"http://google.com\")\n"
   ]
  },
  {
   "cell_type": "code",
   "execution_count": 175,
   "metadata": {
    "collapsed": false
   },
   "outputs": [
    {
     "data": {
      "text/plain": [
       "{'girish ramnani': 9601602149}"
      ]
     },
     "execution_count": 175,
     "metadata": {},
     "output_type": "execute_result"
    }
   ],
   "source": [
    "phone_dir = {\n",
    "    \"girish ramnani\": 9601602149\n",
    "    }\n",
    "phone_dir"
   ]
  }
 ],
 "metadata": {
  "kernelspec": {
   "display_name": "Python 3",
   "language": "python",
   "name": "python3"
  },
  "language_info": {
   "codemirror_mode": {
    "name": "ipython",
    "version": 3
   },
   "file_extension": ".py",
   "mimetype": "text/x-python",
   "name": "python",
   "nbconvert_exporter": "python",
   "pygments_lexer": "ipython3",
   "version": "3.5.1"
  }
 },
 "nbformat": 4,
 "nbformat_minor": 0
}
